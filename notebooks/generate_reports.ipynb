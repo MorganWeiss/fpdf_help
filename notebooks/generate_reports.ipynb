{
 "cells": [
  {
   "cell_type": "code",
   "execution_count": null,
   "id": "059987c0-e945-42ff-9947-e5ec21568c3b",
   "metadata": {},
   "outputs": [],
   "source": [
    "import pandas as pd\n",
    "from fpdf import FPDF\n",
    "import glob, os\n",
    "import json"
   ]
  },
  {
   "cell_type": "code",
   "execution_count": null,
   "id": "efc56962-df59-477d-a795-03334782c2ef",
   "metadata": {},
   "outputs": [],
   "source": [
    "input_path1 = \"../plots/\"\n",
    "input_path2 = \"../text/\""
   ]
  },
  {
   "cell_type": "code",
   "execution_count": null,
   "id": "ec552453-1398-4215-a831-a92cf982d252",
   "metadata": {},
   "outputs": [],
   "source": [
    "df = pd.read_csv('../input/test.csv')\n",
    "df['FIPS'] = df['FIPS'].astype(str)\n",
    "df['FIPS'] = df['FIPS'].apply(lambda s: '0' + s if len(s) == 4 else s)\n",
    "df['County'] = df['County'].str.strip()"
   ]
  },
  {
   "cell_type": "code",
   "execution_count": null,
   "id": "fd86f27b-57f3-4339-87c0-5ee61d8f725e",
   "metadata": {},
   "outputs": [],
   "source": [
    "df['FIPS'].nunique()"
   ]
  },
  {
   "cell_type": "code",
   "execution_count": null,
   "id": "4690fc5d-d3b1-4c96-b548-e3dffa3e6ca1",
   "metadata": {},
   "outputs": [],
   "source": [
    "type(df['FIPS'].iloc[0])"
   ]
  },
  {
   "cell_type": "code",
   "execution_count": null,
   "id": "a1cb3cb2-4e41-40fd-8b7c-1944dceb2afa",
   "metadata": {},
   "outputs": [],
   "source": [
    "# Custom class to overwrite the header and footer methods\n",
    "class PDF(FPDF):\n",
    "    def __init__(self):\n",
    "        super().__init__()\n",
    "    def header(self):\n",
    "        self.set_font('Arial', '', 12)\n",
    "        self.cell(0, 10, 'Header', 1, 1, 'C')\n",
    "    def footer(self):\n",
    "        self.set_y(-15)\n",
    "        self.set_font('Arial', '', 12)\n",
    "        self.cell(0, 10, 'Footer', 1, 0, 'C')\n"
   ]
  },
  {
   "cell_type": "code",
   "execution_count": null,
   "id": "f6e15e26-6434-40ce-8dca-68d4bbaf4a14",
   "metadata": {},
   "outputs": [],
   "source": [
    "def investment_summary(pdf, text, bullet_indent=15):\n",
    "    pdf.set_font(\"Arial\", size=8)\n",
    "\n",
    "    for point in text.splitlines():\n",
    "        if point.startswith(\"-\"):\n",
    "            pdf.set_x(bullet_indent)\n",
    "        pdf.multi_cell(0, 5, point)"
   ]
  },
  {
   "cell_type": "code",
   "execution_count": null,
   "id": "3ecfd72d-f8e0-429a-9d43-1eb9771f1c85",
   "metadata": {},
   "outputs": [],
   "source": [
    "def add_analytics(pdf, image_paths):\n",
    "  for image in image_paths:\n",
    "    pdf.image(image, w=180, h=100)  # Adjust width (w) and height (h) as needed\n",
    "    pdf.add_page()  # Start a new page for each graph"
   ]
  },
  {
   "cell_type": "code",
   "execution_count": null,
   "id": "78db4a5b-2349-4feb-96e3-6dd3a6fddc26",
   "metadata": {},
   "outputs": [],
   "source": [
    "def add_analytics1(pdf, image_paths):\n",
    "    size_of_image = 150\n",
    "    # pdf.set_margin(5.0)\n",
    "    for image in image_paths:\n",
    "        pdf.image(image, w=size_of_image, x=((pdf.w-size_of_image)/2))\n",
    "        pdf.ln(h=2.5)\n"
   ]
  },
  {
   "cell_type": "code",
   "execution_count": null,
   "id": "787da805-3deb-4ab9-b406-3e4724b5088b",
   "metadata": {},
   "outputs": [],
   "source": [
    "def create_report(county_and_state, llm_text, analytics_location_path=None):\n",
    "    \n",
    "    pdf = FPDF()\n",
    "    pdf.add_page()\n",
    "    \n",
    "    pdf.set_text_color(r=50,g=108,b=175)\n",
    "    pdf.set_font('Arial', 'B', 18)\n",
    "    \n",
    "    \n",
    "    pdf.cell(w=0, h=10, txt=\"Verus-AI: \" + county_and_state, ln=1,align='C')\n",
    "    \n",
    "    \n",
    "    pdf.set_font('Arial', 'B', 16)\n",
    "    pdf.cell(w=0, h=10, txt=\"Investment Summary\", ln=1,align='L')\n",
    "    \n",
    "    investment_summary(pdf, llm_text)\n",
    "\n",
    "    pdf.set_text_color(r=50,g=108,b=175)\n",
    "    pdf.set_font('Arial', 'B', 16)\n",
    "\n",
    "    pdf.add_page()\n",
    "    pdf.cell(w=0, h=10, txt=\"Analytics\", ln=1,align='L')\n",
    "    add_analytics1(pdf, analytics_location_path)\n",
    "    \n",
    "    \n",
    "    \n",
    "    \n",
    "    \n",
    "    \n",
    "    pdf.output(f'./example1.pdf', 'F')"
   ]
  },
  {
   "cell_type": "code",
   "execution_count": null,
   "id": "3319baba-5114-40d3-84a0-b4bb3fee0c59",
   "metadata": {},
   "outputs": [],
   "source": [
    "df['County_Modified'] = df['County'].str.rstrip('County')\n",
    "df['County_Modified'] = df['County_Modified'].str.replace('Census Area', '')\n",
    "df['County_Modified'] = df['County_Modified'].str.strip()\n",
    "dict = pd.Series(df.County_Modified.values,index=df.FIPS).to_dict()"
   ]
  },
  {
   "cell_type": "code",
   "execution_count": null,
   "id": "e5dde189-8a95-44fc-97a2-0aaa4fa5ad57",
   "metadata": {},
   "outputs": [],
   "source": [
    "file_paths1 = []\n",
    "for root, dirs, files in os.walk(input_path1):\n",
    "    for name in files:\n",
    "        if '.png' in name:\n",
    "            file_paths1.append(os.path.join(root, name))"
   ]
  },
  {
   "cell_type": "code",
   "execution_count": null,
   "id": "ec318eef-0705-49ac-8e8b-1f1105b6f10f",
   "metadata": {},
   "outputs": [],
   "source": [
    "file_paths2 = []\n",
    "for root, dirs, files in os.walk(input_path2):\n",
    "    for name in files:\n",
    "        file_paths2.append(os.path.join(root, name))"
   ]
  },
  {
   "cell_type": "code",
   "execution_count": null,
   "id": "1961c192-c501-4263-8ceb-aff65e73539e",
   "metadata": {},
   "outputs": [],
   "source": [
    "count = 0\n",
    "for path in file_paths2:\n",
    "    fips = path.split('/')[2]\n",
    "    df_state = df[df['FIPS']==fips]\n",
    "    state = df_state['State'].iloc[0]\n",
    "    county_and_state = dict[fips] + \", \" + state\n",
    "    with open(path) as f:\n",
    "        d = json.load(f)\n",
    "        index = d.find(':')\n",
    "        text = d[index+3:]\n",
    "        find_graph = [x for x in file_paths1 if fips in x]\n",
    "        create_report(county_and_state, text, find_graph)\n",
    "        break\n",
    "    "
   ]
  },
  {
   "cell_type": "code",
   "execution_count": null,
   "id": "2d47ab25-badd-4d9e-9979-1018d37b8301",
   "metadata": {},
   "outputs": [],
   "source": []
  },
  {
   "cell_type": "code",
   "execution_count": null,
   "id": "4c21e751-4f7c-4b3f-ab34-0f9b0eb1ea77",
   "metadata": {},
   "outputs": [],
   "source": []
  }
 ],
 "metadata": {
  "kernelspec": {
   "display_name": "Python 3 (ipykernel)",
   "language": "python",
   "name": "python3"
  },
  "language_info": {
   "codemirror_mode": {
    "name": "ipython",
    "version": 3
   },
   "file_extension": ".py",
   "mimetype": "text/x-python",
   "name": "python",
   "nbconvert_exporter": "python",
   "pygments_lexer": "ipython3",
   "version": "3.11.7"
  }
 },
 "nbformat": 4,
 "nbformat_minor": 5
}
